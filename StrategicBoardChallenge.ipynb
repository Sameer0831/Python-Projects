{
 "cells": [
  {
   "cell_type": "markdown",
   "id": "e7e6af4c",
   "metadata": {},
   "source": [
    "## Interactive Tic Tac Toe Learning Experience\n",
    "### Learn Python programming concepts through hands-on gameplay with this interactive Tic Tac Toe project.\n",
    "\n",
    "Structured approach for navigating through the board challenge include:\n",
    "\n",
    "       a. Creating a board for visual representation.\n",
    "       b. Take in player input.\n",
    "       c. Place their input on the board.\n",
    "       d. Check if the game is won,tied, lost, or ongoing.\n",
    "       e. Repeat c and d until the game has been won or tied.\n",
    "       f. Ask if players want to play again."
   ]
  },
  {
   "cell_type": "markdown",
   "id": "e42bfcf4",
   "metadata": {},
   "source": [
    "### Step 1: Write a function that can print out a board. Set up your board as a list, where each index 1-9 corresponds with a number on a number pad, so you get a 3 by 3 board representation."
   ]
  },
  {
   "cell_type": "code",
   "execution_count": null,
   "id": "cc5d399d",
   "metadata": {},
   "outputs": [],
   "source": [
    "from IPython.display import clear_output\n",
    "\n",
    "def display_board(board):\n",
    "    clear_output()  # Remember, this only works in jupyter! \n",
    "    # clear_output() method is used to clear the output of a cell while running code. It enables us to wait - to clear the output until new output is available to replace it.\n",
    "    \n",
    "    #print('   |   |')\n",
    "    print(' ' + board[7] + ' | ' + board[8] + ' | ' + board[9])\n",
    "    #print('   |   |')\n",
    "    print('-----------')\n",
    "    #print('   |   |')\n",
    "    print(' ' + board[4] + ' | ' + board[5] + ' | ' + board[6])\n",
    "    #print('   |   |')\n",
    "    print('-----------')\n",
    "    #print('   |   |')\n",
    "    print(' ' + board[1] + ' | ' + board[2] + ' | ' + board[3])\n",
    "    #print('   |   |')"
   ]
  },
  {
   "cell_type": "markdown",
   "id": "fc6a019e",
   "metadata": {},
   "source": [
    "##### TEST Step 1: run your function on a test version of the board list, and make adjustments as necessary"
   ]
  },
  {
   "cell_type": "code",
   "execution_count": null,
   "id": "0b9712ff",
   "metadata": {},
   "outputs": [],
   "source": [
    "\n",
    "test_board = ['#','X','O','X','O','X','O','X','O','X']\n",
    "display_board(test_board)"
   ]
  },
  {
   "cell_type": "markdown",
   "id": "58115163",
   "metadata": {},
   "source": [
    "### Step 2: Write a function that can take in a player input and assign their marker as 'X' or 'O'. Think about using while loops to continually ask until you get a correct answer.\n"
   ]
  },
  {
   "cell_type": "code",
   "execution_count": null,
   "id": "78574505",
   "metadata": {},
   "outputs": [],
   "source": [
    "def player_input():\n",
    "    marker = ''\n",
    "    \n",
    "    while not (marker == 'X' or marker == 'O'):\n",
    "        \n",
    "        #not converting the marker to any int type (using-int()). Since, we require strings only and input() by default, takes strings as input.\n",
    "        marker = input('Player 1: Do you want to be X or O? ').upper()\n",
    "        if marker not in ['X','O']:\n",
    "            print(\"Sorry, Invalid input please choose between ('X','O')\")\n",
    "\n",
    "    if marker == 'X':\n",
    "            # returning a tuple that contains boths the markers. Later, while calling the function we can do tuple unpacking and assign these markers to different players.\n",
    "            return ('X', 'O') \n",
    "    else:\n",
    "        return ('O', 'X')"
   ]
  },
  {
   "cell_type": "markdown",
   "id": "4c4b6652",
   "metadata": {},
   "source": [
    "##### TEST Step 2: run the function to make sure it returns the desired output"
   ]
  },
  {
   "cell_type": "code",
   "execution_count": null,
   "id": "4cf3d898",
   "metadata": {},
   "outputs": [],
   "source": [
    "player_input()"
   ]
  },
  {
   "cell_type": "markdown",
   "id": "addd6e15",
   "metadata": {},
   "source": [
    "### Step 2.a: Tuple Unpacking:(Optional - can do this in the later steps as well) \n",
    "To assign these returned markers to different players based on player1 input.\n"
   ]
  },
  {
   "cell_type": "code",
   "execution_count": null,
   "id": "1aad4396",
   "metadata": {},
   "outputs": [],
   "source": [
    "#player1_marker, player2_marker = player_input()\n",
    "# defined both players markers"
   ]
  },
  {
   "cell_type": "markdown",
   "id": "ed7468c1",
   "metadata": {},
   "source": [
    "### Step 3: Write a function that takes in the board list object, a marker ('X' or 'O'), and a desired position (number 1-9) and assigns it to the board. - It is like a replacement function."
   ]
  },
  {
   "cell_type": "code",
   "execution_count": null,
   "id": "12ec71d8",
   "metadata": {},
   "outputs": [],
   "source": [
    "def place_marker(board, marker, position):\n",
    "    board[position] = marker"
   ]
  },
  {
   "cell_type": "markdown",
   "id": "9d19eba2",
   "metadata": {},
   "source": [
    "##### TEST Step 3: run the place marker function using test parameters and display the modified board"
   ]
  },
  {
   "cell_type": "code",
   "execution_count": null,
   "id": "3e66f1b2",
   "metadata": {},
   "outputs": [],
   "source": [
    "place_marker(test_board,'$',8)\n",
    "display_board(test_board)"
   ]
  },
  {
   "cell_type": "markdown",
   "id": "9a4def40",
   "metadata": {},
   "source": [
    "### Step 4: Write a function that takes in a board and checks to see if someone has won.\n",
    "Here, we'll specify the logic for win,tie,loss "
   ]
  },
  {
   "cell_type": "code",
   "execution_count": null,
   "id": "677004ac",
   "metadata": {},
   "outputs": [],
   "source": [
    "def win_check(board,mark):\n",
    "    \n",
    "    return ((board[7] == mark and board[8] == mark and board[9] == mark) or # across the top\n",
    "    (board[4] == mark and board[5] == mark and board[6] == mark) or # across the middle\n",
    "    (board[1] == mark and board[2] == mark and board[3] == mark) or # across the bottom\n",
    "    (board[7] == mark and board[4] == mark and board[1] == mark) or # down the left side\n",
    "    (board[8] == mark and board[5] == mark and board[2] == mark) or # down the middle\n",
    "    (board[9] == mark and board[6] == mark and board[3] == mark) or # down the right side\n",
    "    (board[7] == mark and board[5] == mark and board[3] == mark) or # diagonal 1\n",
    "    (board[9] == mark and board[5] == mark and board[1] == mark)) # diagonal 2"
   ]
  },
  {
   "cell_type": "markdown",
   "id": "529043a7",
   "metadata": {},
   "source": [
    "##### TEST Step 4: run the win_check function against our test_board - it should return True"
   ]
  },
  {
   "cell_type": "code",
   "execution_count": null,
   "id": "6e98ffab",
   "metadata": {},
   "outputs": [],
   "source": [
    "win_check(test_board,'X')"
   ]
  },
  {
   "cell_type": "markdown",
   "id": "646d7feb",
   "metadata": {},
   "source": [
    "### Step 5: Write a function that uses the random module to randomly decide which player goes first. We'll use randInt() to decide which player should go first.\n"
   ]
  },
  {
   "cell_type": "code",
   "execution_count": null,
   "id": "2bf772e9",
   "metadata": {},
   "outputs": [],
   "source": [
    "import random\n",
    "\n",
    "def choose_first():\n",
    "    if random.randint(0, 1) == 0:\n",
    "        return 'Player 2'\n",
    "    else:\n",
    "        return 'Player 1'"
   ]
  },
  {
   "cell_type": "markdown",
   "id": "58651411",
   "metadata": {},
   "source": [
    "##### TEST Step 5: Who Goes First"
   ]
  },
  {
   "cell_type": "code",
   "execution_count": null,
   "id": "cda97ce0",
   "metadata": {},
   "outputs": [],
   "source": [
    "choose_first()"
   ]
  },
  {
   "cell_type": "markdown",
   "id": "37741982",
   "metadata": {},
   "source": [
    "### Step 6: Write a function that returns a boolean indicating whether a space on the board is freely available\n",
    "##### This function takes a board and a position to check if there is something available or not at that particular position.(In our case we are looking for space)"
   ]
  },
  {
   "cell_type": "code",
   "execution_count": null,
   "id": "5bbce61b",
   "metadata": {},
   "outputs": [],
   "source": [
    "def space_check(board, position):\n",
    "    return board[position] == ' ' # Checking for space at a particular position."
   ]
  },
  {
   "cell_type": "markdown",
   "id": "a6e469fc",
   "metadata": {},
   "source": [
    "##### Test Step 6: space available or not at particular position"
   ]
  },
  {
   "cell_type": "code",
   "execution_count": null,
   "id": "4aac1d14",
   "metadata": {},
   "outputs": [],
   "source": [
    "space_check(test_board, 8)"
   ]
  },
  {
   "cell_type": "markdown",
   "id": "242ee203",
   "metadata": {},
   "source": [
    "### Step 7: Write a function that checks if the board is full and returns a boolean value. True if full, False otherwise. This will confirm us whether we can continue playing or not "
   ]
  },
  {
   "cell_type": "code",
   "execution_count": null,
   "id": "42befb4c",
   "metadata": {},
   "outputs": [],
   "source": [
    "def full_board_check(board):\n",
    "    for i in range(1,10):\n",
    "        if space_check(board, i):\n",
    "            return False\n",
    "    return True # this returned values determines whether there is space left/not and whether we can still play/not. We will use this in later game logic.\n",
    "# True - Indicates that board is full\n",
    "# False indicates board is not full"
   ]
  },
  {
   "cell_type": "markdown",
   "id": "503918fb",
   "metadata": {},
   "source": [
    "##### Test Step 7 : space available or not at particular position after traversing the whole board"
   ]
  },
  {
   "cell_type": "code",
   "execution_count": null,
   "id": "fb4bf1ca",
   "metadata": {},
   "outputs": [],
   "source": [
    "full_board_check(test_board)"
   ]
  },
  {
   "cell_type": "markdown",
   "id": "0c63601e",
   "metadata": {},
   "source": [
    "### Step 8: Write a function that asks for a player's next position (as a number 1-9) (For next round) and then uses the function from step 6 to check if its a free position. If it is, then return the position for later use. "
   ]
  },
  {
   "cell_type": "code",
   "execution_count": null,
   "id": "fe73041f",
   "metadata": {},
   "outputs": [],
   "source": [
    "def player_choice(board):\n",
    "    position = 0\n",
    "    \n",
    "    while position not in [1,2,3,4,5,6,7,8,9] or not space_check(board, position):\n",
    "        #keeps on asking the user to select from 1-9 and based on the selection we will check for space\n",
    "        #since space is not available for our passed test_board it keeps on asking to select some other position.\n",
    "        position = int(input('Choose your next position: (1-9) '))\n",
    "        \n",
    "    return position"
   ]
  },
  {
   "cell_type": "markdown",
   "id": "51ac479d",
   "metadata": {},
   "source": [
    "##### We can write the same code using try , except statements. So that our code provides some hints to the users to provide input. \n",
    "##### Use player_choice_2() to not get terminated from the normal execution flow of our code when there are some errors."
   ]
  },
  {
   "cell_type": "markdown",
   "id": "3c5840e8",
   "metadata": {},
   "source": [
    "**If we run this 8-func() [player_choice()] solely at this point(after running all the above cells) then we will get stucked in a position where the input prompt keeps on asking for new position reason for this behaviour is we are passing a board where there is no space left so our function keeps trying new positions.**"
   ]
  },
  {
   "cell_type": "code",
   "execution_count": null,
   "id": "f1682eac",
   "metadata": {},
   "outputs": [],
   "source": [
    "def player_choice_2(board):\n",
    "    ''' With this, we are checking whether the input is in the given range or not (1-9)\n",
    "        and also if there is space left or not at that particular position.'''\n",
    "    '''\n",
    "    implementing the concept of error handling as well.\n",
    "    '''\n",
    "    maxValue = 10\n",
    "    while True:\n",
    "        try:\n",
    "            position = int(input('Choose your position: (1-9) '))\n",
    "        except:\n",
    "            print(\"Enter Valid Numeric Numbers !!! Not String/Characters\")\n",
    "            continue\n",
    "        else:\n",
    "            if position < 1 or position >= maxValue:\n",
    "                print('Permissable values are (1-9)')\n",
    "                continue\n",
    "            else:\n",
    "                if not space_check(board, position):\n",
    "                    print(\"That position is already taken. Please choose a different one.\")\n",
    "\n",
    "                else:\n",
    "                    return (position)"
   ]
  },
  {
   "cell_type": "markdown",
   "id": "5c682a67",
   "metadata": {},
   "source": [
    "##### Test Step 8 : Check position is valid or not and space is left in the board or not"
   ]
  },
  {
   "cell_type": "code",
   "execution_count": null,
   "id": "d6865637",
   "metadata": {},
   "outputs": [],
   "source": [
    "#player_choice_2(test_board)"
   ]
  },
  {
   "cell_type": "code",
   "execution_count": null,
   "id": "21a3ae75",
   "metadata": {},
   "outputs": [],
   "source": [
    "#player_choice_1(test_board)"
   ]
  },
  {
   "cell_type": "markdown",
   "id": "639b91d8",
   "metadata": {},
   "source": [
    "### Step 9: Write a function that asks the player if they want to play again and returns a boolean True if they do want to play again."
   ]
  },
  {
   "cell_type": "code",
   "execution_count": null,
   "id": "8bd3efbf",
   "metadata": {},
   "outputs": [],
   "source": [
    "def replay():\n",
    "    ''' if we want the user to enter only yes or no then we can add a while loop with permissable values\n",
    "        but here we are keeping it simple\n",
    "    '''\n",
    "    return input('Do you want to play again? Enter Yes or No: ').lower().startswith('y')"
   ]
  },
  {
   "cell_type": "code",
   "execution_count": null,
   "id": "399d4d0d",
   "metadata": {},
   "outputs": [],
   "source": [
    "replay()"
   ]
  },
  {
   "cell_type": "markdown",
   "id": "eec2351e",
   "metadata": {},
   "source": [
    "### Step 10: Main Game Logic! \n",
    "### We will use everything that we created till now (while loops and the functions)!"
   ]
  },
  {
   "cell_type": "code",
   "execution_count": null,
   "id": "47f90876",
   "metadata": {},
   "outputs": [],
   "source": [
    "import time\n",
    "\n",
    "print('Welcome to Strategic Board Challenge - Tic Tac Toe! Game')\n",
    "\n",
    "'''\n",
    "Applying everything to this board Challenge Game!!!\n",
    "'''\n",
    "\n",
    "while True:\n",
    "    # Reset the board\n",
    "    theBoard = [' '] * 10 # this will create an empty board after passing to displayBoard()\n",
    "    player1_marker, player2_marker = player_input() #Tuple Unpacking to let the users to choose their respective markers\n",
    "    print(\"Player1's marker is \"+ player1_marker)\n",
    "    print(\"Player2's marker is \"+ player2_marker)\n",
    "    turn = choose_first()# decides which player will go first\n",
    "    \n",
    "    time.sleep(5) # just to give a real experience (Waiting for toss to happen)\n",
    "    \n",
    "    print(turn + ' will go first.')\n",
    "    #asking user - (from turn()) to start the game or not\n",
    "    play_game = input('Are you ready to play? Enter Yes or No.')\n",
    "    \n",
    "    if play_game.lower()[0] == 'y':\n",
    "        game_on = True\n",
    "    else:\n",
    "        game_on = False\n",
    "        \n",
    "    while game_on:\n",
    "        if turn == 'Player 1':\n",
    "            # Player1's turn.\n",
    "            \n",
    "            display_board(theBoard) # Passing the empty board to display func & calling multiple different functions below\n",
    "            position = player_choice_2(theBoard)\n",
    "            place_marker(theBoard, player1_marker, position)\n",
    "\n",
    "            if win_check(theBoard, player1_marker):\n",
    "                display_board(theBoard) #each time, something happens, board will be displayed\n",
    "                print('Congratulations! You have won the game!')\n",
    "                game_on = False\n",
    "            else:\n",
    "                if full_board_check(theBoard):\n",
    "                    display_board(theBoard)\n",
    "                    print('The game is a draw!')\n",
    "                    break\n",
    "                else:\n",
    "                    turn = 'Player 2'\n",
    "\n",
    "        else:\n",
    "            # Player2's turn.\n",
    "            \n",
    "            display_board(theBoard)\n",
    "            position = player_choice_2(theBoard)\n",
    "            place_marker(theBoard, player2_marker, position)\n",
    "\n",
    "            if win_check(theBoard, player2_marker):\n",
    "                display_board(theBoard)\n",
    "                print('Player 2 has won!')\n",
    "                game_on = False\n",
    "            else:\n",
    "                if full_board_check(theBoard):\n",
    "                    display_board(theBoard)\n",
    "                    print('The game is a draw!')\n",
    "                    break\n",
    "                else:\n",
    "                    turn = 'Player 1'\n",
    "\n",
    "    if not replay():\n",
    "        break                "
   ]
  },
  {
   "cell_type": "code",
   "execution_count": null,
   "id": "f2fe8369",
   "metadata": {},
   "outputs": [],
   "source": []
  }
 ],
 "metadata": {
  "kernelspec": {
   "display_name": "Python 3 (ipykernel)",
   "language": "python",
   "name": "python3"
  },
  "language_info": {
   "codemirror_mode": {
    "name": "ipython",
    "version": 3
   },
   "file_extension": ".py",
   "mimetype": "text/x-python",
   "name": "python",
   "nbconvert_exporter": "python",
   "pygments_lexer": "ipython3",
   "version": "3.11.5"
  }
 },
 "nbformat": 4,
 "nbformat_minor": 5
}
